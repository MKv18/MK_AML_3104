{
 "cells": [
  {
   "cell_type": "code",
   "execution_count": 43,
   "metadata": {},
   "outputs": [],
   "source": [
    "import pandas as pd\n",
    "import pickle"
   ]
  },
  {
   "cell_type": "code",
   "execution_count": 44,
   "metadata": {},
   "outputs": [],
   "source": [
    "#taking unseen data in a dataframe\n",
    "rdf=pd.read_csv(\"Assign_unseen_data.csv\")"
   ]
  },
  {
   "cell_type": "code",
   "execution_count": 45,
   "metadata": {},
   "outputs": [
    {
     "data": {
      "text/html": [
       "<div>\n",
       "<style scoped>\n",
       "    .dataframe tbody tr th:only-of-type {\n",
       "        vertical-align: middle;\n",
       "    }\n",
       "\n",
       "    .dataframe tbody tr th {\n",
       "        vertical-align: top;\n",
       "    }\n",
       "\n",
       "    .dataframe thead th {\n",
       "        text-align: right;\n",
       "    }\n",
       "</style>\n",
       "<table border=\"1\" class=\"dataframe\">\n",
       "  <thead>\n",
       "    <tr style=\"text-align: right;\">\n",
       "      <th></th>\n",
       "      <th>day</th>\n",
       "      <th>month</th>\n",
       "      <th>Temperature</th>\n",
       "      <th>RH</th>\n",
       "      <th>Ws</th>\n",
       "      <th>Rain</th>\n",
       "      <th>FFMC</th>\n",
       "      <th>DMC</th>\n",
       "      <th>DC</th>\n",
       "      <th>ISI</th>\n",
       "      <th>FWI</th>\n",
       "      <th>BUI</th>\n",
       "      <th>Region</th>\n",
       "      <th>Classes_fire</th>\n",
       "      <th>Classes_not_fire</th>\n",
       "    </tr>\n",
       "  </thead>\n",
       "  <tbody>\n",
       "    <tr>\n",
       "      <th>0</th>\n",
       "      <td>28</td>\n",
       "      <td>7</td>\n",
       "      <td>32</td>\n",
       "      <td>60</td>\n",
       "      <td>15</td>\n",
       "      <td>1.5</td>\n",
       "      <td>65.9</td>\n",
       "      <td>4.1</td>\n",
       "      <td>7.8</td>\n",
       "      <td>1.0</td>\n",
       "      <td>0.18</td>\n",
       "      <td>3.6</td>\n",
       "      <td>0</td>\n",
       "      <td>0</td>\n",
       "      <td>1</td>\n",
       "    </tr>\n",
       "    <tr>\n",
       "      <th>1</th>\n",
       "      <td>29</td>\n",
       "      <td>8</td>\n",
       "      <td>35</td>\n",
       "      <td>63</td>\n",
       "      <td>12</td>\n",
       "      <td>0.0</td>\n",
       "      <td>63.4</td>\n",
       "      <td>4.5</td>\n",
       "      <td>8.2</td>\n",
       "      <td>1.5</td>\n",
       "      <td>1.67</td>\n",
       "      <td>3.8</td>\n",
       "      <td>0</td>\n",
       "      <td>1</td>\n",
       "      <td>0</td>\n",
       "    </tr>\n",
       "  </tbody>\n",
       "</table>\n",
       "</div>"
      ],
      "text/plain": [
       "   day  month  Temperature  RH  Ws  Rain  FFMC  DMC   DC  ISI   FWI  BUI  \\\n",
       "0   28      7           32  60  15   1.5  65.9  4.1  7.8  1.0  0.18  3.6   \n",
       "1   29      8           35  63  12   0.0  63.4  4.5  8.2  1.5  1.67  3.8   \n",
       "\n",
       "   Region  Classes_fire  Classes_not_fire  \n",
       "0       0             0                 1  \n",
       "1       0             1                 0  "
      ]
     },
     "execution_count": 45,
     "metadata": {},
     "output_type": "execute_result"
    }
   ],
   "source": [
    "rdf"
   ]
  },
  {
   "cell_type": "code",
   "execution_count": 46,
   "metadata": {},
   "outputs": [],
   "source": [
    "#setting target and input variables\n",
    "inp=rdf.drop(columns=[\"FWI\"])\n",
    "out=rdf['FWI']"
   ]
  },
  {
   "cell_type": "code",
   "execution_count": 47,
   "metadata": {},
   "outputs": [
    {
     "data": {
      "text/html": [
       "<div>\n",
       "<style scoped>\n",
       "    .dataframe tbody tr th:only-of-type {\n",
       "        vertical-align: middle;\n",
       "    }\n",
       "\n",
       "    .dataframe tbody tr th {\n",
       "        vertical-align: top;\n",
       "    }\n",
       "\n",
       "    .dataframe thead th {\n",
       "        text-align: right;\n",
       "    }\n",
       "</style>\n",
       "<table border=\"1\" class=\"dataframe\">\n",
       "  <thead>\n",
       "    <tr style=\"text-align: right;\">\n",
       "      <th></th>\n",
       "      <th>day</th>\n",
       "      <th>month</th>\n",
       "      <th>Temperature</th>\n",
       "      <th>RH</th>\n",
       "      <th>Ws</th>\n",
       "      <th>Rain</th>\n",
       "      <th>FFMC</th>\n",
       "      <th>DMC</th>\n",
       "      <th>DC</th>\n",
       "      <th>ISI</th>\n",
       "      <th>BUI</th>\n",
       "      <th>Region</th>\n",
       "      <th>Classes_fire</th>\n",
       "      <th>Classes_not_fire</th>\n",
       "    </tr>\n",
       "  </thead>\n",
       "  <tbody>\n",
       "    <tr>\n",
       "      <th>0</th>\n",
       "      <td>28</td>\n",
       "      <td>7</td>\n",
       "      <td>32</td>\n",
       "      <td>60</td>\n",
       "      <td>15</td>\n",
       "      <td>1.5</td>\n",
       "      <td>65.9</td>\n",
       "      <td>4.1</td>\n",
       "      <td>7.8</td>\n",
       "      <td>1.0</td>\n",
       "      <td>3.6</td>\n",
       "      <td>0</td>\n",
       "      <td>0</td>\n",
       "      <td>1</td>\n",
       "    </tr>\n",
       "    <tr>\n",
       "      <th>1</th>\n",
       "      <td>29</td>\n",
       "      <td>8</td>\n",
       "      <td>35</td>\n",
       "      <td>63</td>\n",
       "      <td>12</td>\n",
       "      <td>0.0</td>\n",
       "      <td>63.4</td>\n",
       "      <td>4.5</td>\n",
       "      <td>8.2</td>\n",
       "      <td>1.5</td>\n",
       "      <td>3.8</td>\n",
       "      <td>0</td>\n",
       "      <td>1</td>\n",
       "      <td>0</td>\n",
       "    </tr>\n",
       "  </tbody>\n",
       "</table>\n",
       "</div>"
      ],
      "text/plain": [
       "   day  month  Temperature  RH  Ws  Rain  FFMC  DMC   DC  ISI  BUI  Region  \\\n",
       "0   28      7           32  60  15   1.5  65.9  4.1  7.8  1.0  3.6       0   \n",
       "1   29      8           35  63  12   0.0  63.4  4.5  8.2  1.5  3.8       0   \n",
       "\n",
       "   Classes_fire  Classes_not_fire  \n",
       "0             0                 1  \n",
       "1             1                 0  "
      ]
     },
     "execution_count": 47,
     "metadata": {},
     "output_type": "execute_result"
    }
   ],
   "source": [
    "inp"
   ]
  },
  {
   "cell_type": "code",
   "execution_count": 48,
   "metadata": {},
   "outputs": [
    {
     "data": {
      "text/plain": [
       "0    0.18\n",
       "1    1.67\n",
       "Name: FWI, dtype: float64"
      ]
     },
     "execution_count": 48,
     "metadata": {},
     "output_type": "execute_result"
    }
   ],
   "source": [
    "out"
   ]
  },
  {
   "cell_type": "code",
   "execution_count": 50,
   "metadata": {},
   "outputs": [
    {
     "name": "stderr",
     "output_type": "stream",
     "text": [
      "c:\\Users\\patel\\AppData\\Local\\Programs\\Python\\Python311\\Lib\\site-packages\\sklearn\\base.py:376: InconsistentVersionWarning: Trying to unpickle estimator StandardScaler from version 1.2.2 when using version 1.4.0. This might lead to breaking code or invalid results. Use at your own risk. For more info please refer to:\n",
      "https://scikit-learn.org/stable/model_persistence.html#security-maintainability-limitations\n",
      "  warnings.warn(\n"
     ]
    }
   ],
   "source": [
    "#scalling unseen data using scaler pickle file\n",
    "scal_new_data=pickle.load(open('mk_scaler_assign.pkl','rb'))\n",
    "scaled_df=scal_new_data.transform(inp)"
   ]
  },
  {
   "cell_type": "code",
   "execution_count": 51,
   "metadata": {},
   "outputs": [
    {
     "data": {
      "text/plain": [
       "array([[ 1.34445155, -0.40740741, -0.0112222 , -0.18652146, -0.20923404,\n",
       "         0.30074338, -0.81104769, -0.84245499, -0.86710487, -0.87252794,\n",
       "        -0.90943979, -1.        , -1.098996  ,  1.098996  ],\n",
       "       [ 1.45605153,  0.49206349,  0.80639527,  0.01630571, -1.35664652,\n",
       "        -0.38582388, -0.98630459, -0.81142702, -0.85898937, -0.75597148,\n",
       "        -0.89596191, -1.        ,  0.90992142, -0.90992142]])"
      ]
     },
     "execution_count": 51,
     "metadata": {},
     "output_type": "execute_result"
    }
   ],
   "source": [
    "scaled_df"
   ]
  },
  {
   "cell_type": "code",
   "execution_count": 52,
   "metadata": {},
   "outputs": [
    {
     "name": "stderr",
     "output_type": "stream",
     "text": [
      "c:\\Users\\patel\\AppData\\Local\\Programs\\Python\\Python311\\Lib\\site-packages\\sklearn\\base.py:376: InconsistentVersionWarning: Trying to unpickle estimator LinearRegression from version 1.2.2 when using version 1.4.0. This might lead to breaking code or invalid results. Use at your own risk. For more info please refer to:\n",
      "https://scikit-learn.org/stable/model_persistence.html#security-maintainability-limitations\n",
      "  warnings.warn(\n"
     ]
    }
   ],
   "source": [
    "mlr_new=pickle.load(open('mk_mlr_assign.pkl','rb'))\n",
    "y_pred_new=mlr_new.predict(scaled_df)"
   ]
  },
  {
   "cell_type": "code",
   "execution_count": 53,
   "metadata": {},
   "outputs": [
    {
     "name": "stdout",
     "output_type": "stream",
     "text": [
      "r2: 0.9995900872373441\n",
      "mae: 0.01171783653446093\n",
      "mse: 0.00022751183109308423\n"
     ]
    }
   ],
   "source": [
    "#Model Evaluation\n",
    "from sklearn.metrics import mean_absolute_error, mean_squared_error,r2_score\n",
    "mse=mean_squared_error(out,y_pred_new)\n",
    "mae=mean_absolute_error(out,y_pred_new)\n",
    "r2=r2_score(out,y_pred_new)\n",
    "print('r2:',r2)\n",
    "print('mae:',mae)\n",
    "print('mse:',mse)"
   ]
  },
  {
   "cell_type": "code",
   "execution_count": 54,
   "metadata": {},
   "outputs": [
    {
     "data": {
      "text/plain": [
       "array([0.17777975, 1.64878458])"
      ]
     },
     "execution_count": 54,
     "metadata": {},
     "output_type": "execute_result"
    }
   ],
   "source": [
    "y_pred_new"
   ]
  },
  {
   "cell_type": "markdown",
   "metadata": {},
   "source": [
    "Based on analyzing Algerian forest fire data with multiple linear regression, we found:\n",
    "\n",
    "**Key Factors**: Identified important variables like temperature, humidity, wind speed and rain.\n",
    "**Insights**: Discovered how these variables relate to forest fires, such as higher temperatures increasing fire likelihood.\n",
    "**Strengths**:\n",
    "   - Can handle multiple predictors.\n",
    "   - Coefficients provide clear insights.\n",
    "   - Offers a quantitative assessment.\n",
    "**Limitations**:\n",
    "   - Assumes linear relationships.\n",
    "   - Assumes predictor independence.\n",
    "   - Might miss important variables.\n",
    "**Improvements**:\n",
    "   - Use non-linear methods.\n",
    "   - Optimize variable selection.\n",
    "   - Include more data.\n",
    "\n",
    "In summary, while multiple linear regression offers insights, addressing its limitations and adopting advanced techniques can enhance predictive accuracy."
   ]
  }
 ],
 "metadata": {
  "kernelspec": {
   "display_name": "Python 3",
   "language": "python",
   "name": "python3"
  },
  "language_info": {
   "codemirror_mode": {
    "name": "ipython",
    "version": 3
   },
   "file_extension": ".py",
   "mimetype": "text/x-python",
   "name": "python",
   "nbconvert_exporter": "python",
   "pygments_lexer": "ipython3",
   "version": "3.11.3"
  }
 },
 "nbformat": 4,
 "nbformat_minor": 2
}
